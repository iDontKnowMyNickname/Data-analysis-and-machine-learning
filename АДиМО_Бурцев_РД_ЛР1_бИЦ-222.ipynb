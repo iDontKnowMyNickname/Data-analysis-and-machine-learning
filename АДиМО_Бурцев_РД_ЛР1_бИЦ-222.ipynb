{
 "cells": [
  {
   "cell_type": "markdown",
   "id": "29cfe532-94fe-4db9-bc0c-48e2bdbd0bd8",
   "metadata": {},
   "source": [
    "# Лабораторная работа №1\n",
    "# на тему \"Установка библиотеки scikit-learn\"\n",
    "## Выполнил:\n",
    "## студент группы бИЦ-222\n",
    "## Бурцев Роман Дмитриевич"
   ]
  },
  {
   "cell_type": "markdown",
   "id": "7e2ecd5e-0b3d-4992-a0f5-e82407bc22b1",
   "metadata": {},
   "source": [
    "Для установки библиотеки scikit-learn (при условии установленного в системе интерпретатора python) выполним следующую команду в командной строке:"
   ]
  },
  {
   "cell_type": "code",
   "execution_count": 2,
   "id": "c98d539b-ef2e-4bc9-a08d-564737c147cd",
   "metadata": {},
   "outputs": [
    {
     "name": "stdout",
     "output_type": "stream",
     "text": [
      "Defaulting to user installation because normal site-packages is not writeable\n",
      "Requirement already satisfied: scikit-learn in c:\\users\\roman.desktop-snglmue\\appdata\\local\\packages\\pythonsoftwarefoundation.python.3.13_qbz5n2kfra8p0\\localcache\\local-packages\\python313\\site-packages (1.6.1)\n",
      "Requirement already satisfied: numpy>=1.19.5 in c:\\users\\roman.desktop-snglmue\\appdata\\local\\packages\\pythonsoftwarefoundation.python.3.13_qbz5n2kfra8p0\\localcache\\local-packages\\python313\\site-packages (from scikit-learn) (2.2.4)\n",
      "Requirement already satisfied: scipy>=1.6.0 in c:\\users\\roman.desktop-snglmue\\appdata\\local\\packages\\pythonsoftwarefoundation.python.3.13_qbz5n2kfra8p0\\localcache\\local-packages\\python313\\site-packages (from scikit-learn) (1.15.2)\n",
      "Requirement already satisfied: joblib>=1.2.0 in c:\\users\\roman.desktop-snglmue\\appdata\\local\\packages\\pythonsoftwarefoundation.python.3.13_qbz5n2kfra8p0\\localcache\\local-packages\\python313\\site-packages (from scikit-learn) (1.4.2)\n",
      "Requirement already satisfied: threadpoolctl>=3.1.0 in c:\\users\\roman.desktop-snglmue\\appdata\\local\\packages\\pythonsoftwarefoundation.python.3.13_qbz5n2kfra8p0\\localcache\\local-packages\\python313\\site-packages (from scikit-learn) (3.6.0)\n"
     ]
    }
   ],
   "source": [
    "!pip install scikit-learn"
   ]
  }
 ],
 "metadata": {
  "kernelspec": {
   "display_name": "Python 3 (ipykernel)",
   "language": "python",
   "name": "python3"
  },
  "language_info": {
   "codemirror_mode": {
    "name": "ipython",
    "version": 3
   },
   "file_extension": ".py",
   "mimetype": "text/x-python",
   "name": "python",
   "nbconvert_exporter": "python",
   "pygments_lexer": "ipython3",
   "version": "3.13.3"
  }
 },
 "nbformat": 4,
 "nbformat_minor": 5
}
